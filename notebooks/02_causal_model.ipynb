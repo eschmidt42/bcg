{
 "cells": [
  {
   "cell_type": "code",
   "execution_count": null,
   "metadata": {},
   "outputs": [],
   "source": [
    "#default_exp causal_model"
   ]
  },
  {
   "cell_type": "markdown",
   "metadata": {},
   "source": [
    "# Causal Model\n",
    "> Implementing instrumental variable and backdoor criteria plus propensity and regression methods"
   ]
  },
  {
   "cell_type": "markdown",
   "metadata": {},
   "source": [
    "**Notes**\n",
    "\n",
    "* Causal Bayesian Networkx: [here](http://conference.scipy.org/proceedings/scipy2015/pdfs/mike_pacer.pdf)\n",
    "\n",
    "dowhy > causal_model.py CausalModel > causal_graph.py CausalGraph"
   ]
  },
  {
   "cell_type": "code",
   "execution_count": null,
   "metadata": {},
   "outputs": [],
   "source": [
    "%matplotlib inline\n",
    "%load_ext autoreload\n",
    "%autoreload 2"
   ]
  },
  {
   "cell_type": "code",
   "execution_count": null,
   "metadata": {},
   "outputs": [],
   "source": [
    "#export\n",
    "import dowhy as dw\n",
    "from typing import List, Union\n",
    "import networkx as nx\n",
    "import itertools\n",
    "import sympy as sp\n",
    "import matplotlib.pyplot as plt\n",
    "import sklearn\n",
    "from sklearn import linear_model\n",
    "import numpy as np\n",
    "from scipy import stats"
   ]
  },
  {
   "cell_type": "code",
   "execution_count": null,
   "metadata": {},
   "outputs": [],
   "source": [
    "plt.style.use('bmh')"
   ]
  },
  {
   "cell_type": "code",
   "execution_count": null,
   "metadata": {},
   "outputs": [],
   "source": [
    "treatments = ['V0', 'V1']\n",
    "outcome = 'Y'\n",
    "common_causes = ['W0']\n",
    "effect_modifiers = ['X0']\n",
    "instruments = []\n",
    "observed_nodes = treatments + [outcome] + instruments + effect_modifiers + common_causes\n",
    "add_unobserved_confounder = True\n",
    "missing_nodes_as_confounders = True"
   ]
  },
  {
   "cell_type": "code",
   "execution_count": null,
   "metadata": {},
   "outputs": [],
   "source": [
    "cg_ref = dw.causal_graph.CausalGraph(treatments,\n",
    "                                 [outcome], graph=None,\n",
    "                                 common_cause_names=common_causes,\n",
    "                                 instrument_names=instruments,\n",
    "                                 effect_modifier_names=effect_modifiers,\n",
    "                                 observed_node_names=observed_nodes)"
   ]
  },
  {
   "cell_type": "code",
   "execution_count": null,
   "metadata": {},
   "outputs": [
    {
     "data": {
      "text/plain": [
       "NodeDataView({'V0': {'observed': 'yes'}, 'V1': {'observed': 'yes'}, 'Y': {'observed': 'yes'}, 'W0': {'observed': 'yes'}, 'X0': {'observed': 'yes'}, 'U': {'label': 'Unobserved Confounders', 'observed': 'no'}})"
      ]
     },
     "execution_count": null,
     "metadata": {},
     "output_type": "execute_result"
    }
   ],
   "source": [
    "cg_ref._graph.nodes(data=True)"
   ]
  },
  {
   "cell_type": "code",
   "execution_count": null,
   "metadata": {},
   "outputs": [],
   "source": [
    "#export\n",
    "class CausalGraph:\n",
    "    def __init__(self, treatments:List[str], outcome:str='Y', \n",
    "                 common_causes:List[str]=None, effect_modifiers:List[str]=None,\n",
    "                 instruments:List[str]=None, observed_nodes:List[str]=None, \n",
    "                 missing_nodes_as_confounders:bool=False,\n",
    "                 add_unobserved_confounder:bool=True):\n",
    "        if common_causes is None: common_causes = []\n",
    "        if effect_modifiers is None: effect_modifiers = []\n",
    "        if instruments is None: instruments = []\n",
    "        if missing_nodes_as_confounders:\n",
    "            all_passed_nodes = treatments + [outcome] + \\\n",
    "                common_causes + effect_modifiers + instruments\n",
    "            missing_nodes = [node for node in all_passed_nodes if node not in observed_nodes]            \n",
    "            common_causes = list(common_causes) + missing_nodes            \n",
    "            \n",
    "        self.g = self.create_nx_digraph(treatments, outcome, \n",
    "                                        common_causes, instruments, \n",
    "                                        effect_modifiers, add_unobserved_confounder)\n",
    "        \n",
    "    @staticmethod\n",
    "    def create_nx_digraph(treatments:List[str], outcome:str, common_causes:List[str], \n",
    "                          instruments:List[str], effect_modifiers:List[str],\n",
    "                          add_unobserved_confounder:bool=False):\n",
    "        g = nx.DiGraph()\n",
    "        g.add_edges_from([(treatment, outcome) for treatment in treatments])\n",
    "        g.add_edges_from([(common_cause, treatment) \n",
    "                          for common_cause, treatment in itertools.product(common_causes, treatments)])\n",
    "        g.add_edges_from([(common_cause, outcome) \n",
    "                          for common_cause in common_causes])\n",
    "        g.add_edges_from([(effect_modifier, outcome) for effect_modifier in effect_modifiers])\n",
    "        g.add_edges_from([(instrument, treatment) for instrument, treatment in itertools.product(instruments, treatments)])\n",
    "        nx.set_node_attributes(g, True, 'observed')\n",
    "        if add_unobserved_confounder:\n",
    "            g.add_node('U', observed=False)\n",
    "            g.add_edges_from([('U', treatment) for treatment in treatments])\n",
    "            g.add_edge('U', outcome)\n",
    "            \n",
    "        return g\n"
   ]
  },
  {
   "cell_type": "code",
   "execution_count": null,
   "metadata": {},
   "outputs": [],
   "source": [
    "cg = CausalGraph(treatments=treatments, outcome=outcome, common_causes=common_causes,\n",
    "                 effect_modifiers=effect_modifiers, observed_nodes=observed_nodes,\n",
    "                 missing_nodes_as_confounders=missing_nodes_as_confounders,\n",
    "                 add_unobserved_confounder=add_unobserved_confounder)"
   ]
  },
  {
   "cell_type": "code",
   "execution_count": null,
   "metadata": {},
   "outputs": [
    {
     "data": {
      "text/plain": [
       "False"
      ]
     },
     "execution_count": null,
     "metadata": {},
     "output_type": "execute_result"
    }
   ],
   "source": [
    "cg.g.nodes['U']['observed']"
   ]
  },
  {
   "cell_type": "code",
   "execution_count": null,
   "metadata": {},
   "outputs": [],
   "source": [
    "#export\n",
    "def show_graph(g:nx.Graph, kind:str='spectral'):\n",
    "    try:\n",
    "        layout = getattr(nx, f'{kind}_layout')(g)\n",
    "    except AttributeError as ae:\n",
    "        raise AttributeError(f'No nx.{kind}_layout found')\n",
    "    nx.draw(g, layout=layout, with_labels=True)\n",
    "\n",
    "def view_graph(self, kind:str='spectral'): \n",
    "    show_graph(self.g, kind=kind)\n",
    "\n",
    "CausalGraph.view_graph = view_graph"
   ]
  },
  {
   "cell_type": "code",
   "execution_count": null,
   "metadata": {},
   "outputs": [
    {
     "data": {
      "image/png": "[encoded data removed]",
      "text/plain": [
       "<Figure size 432x288 with 1 Axes>"
      ]
     },
     "metadata": {},
     "output_type": "display_data"
    }
   ],
   "source": [
    "cg.view_graph()"
   ]
  },
  {
   "cell_type": "code",
   "execution_count": null,
   "metadata": {},
   "outputs": [],
   "source": [
    "#export\n",
    "def get_ancestors(self, node:str, g:nx.DiGraph=None, \n",
    "                  parents_only:bool=False):\n",
    "    if parents_only:\n",
    "        f = self.g if g is None else g\n",
    "        return f.predecessors(node)\n",
    "    return nx.ancestors(self.g if g is None else g, node)\n",
    "\n",
    "CausalGraph.get_ancestors = get_ancestors"
   ]
  },
  {
   "cell_type": "code",
   "execution_count": null,
   "metadata": {},
   "outputs": [
    {
     "data": {
      "text/plain": [
       "{'U', 'W0'}"
      ]
     },
     "execution_count": null,
     "metadata": {},
     "output_type": "execute_result"
    }
   ],
   "source": [
    "cg.get_ancestors('V0')"
   ]
  },
  {
   "cell_type": "code",
   "execution_count": null,
   "metadata": {},
   "outputs": [],
   "source": [
    "#hide\n",
    "assert cg_ref.get_ancestors('V0') == cg.get_ancestors('V0')"
   ]
  },
  {
   "cell_type": "code",
   "execution_count": null,
   "metadata": {},
   "outputs": [],
   "source": [
    "#export\n",
    "def cut_edges(self, edges_to_cut:List[tuple]=None):\n",
    "    if edges_to_cut is None: return None\n",
    "    g_cut = self.g.copy()\n",
    "    g_cut.remove_edges_from(edges_to_cut)\n",
    "    return g_cut\n",
    "        \n",
    "CausalGraph.cut_edges = cut_edges"
   ]
  },
  {
   "cell_type": "code",
   "execution_count": null,
   "metadata": {},
   "outputs": [
    {
     "data": {
      "image/png": "[encoded data removed]",
      "text/plain": [
       "<Figure size 432x288 with 1 Axes>"
      ]
     },
     "metadata": {},
     "output_type": "display_data"
    }
   ],
   "source": [
    "g_cut = cg.cut_edges([('U','Y'), ('W0', 'V1')])\n",
    "show_graph(g_cut)"
   ]
  },
  {
   "cell_type": "code",
   "execution_count": null,
   "metadata": {},
   "outputs": [],
   "source": [
    "#hide\n",
    "assert cg.cut_edges() is None"
   ]
  },
  {
   "cell_type": "code",
   "execution_count": null,
   "metadata": {},
   "outputs": [],
   "source": [
    "#export\n",
    "def get_causes(self, nodes:List[str], \n",
    "               edges_to_cut:List[tuple]=None):\n",
    "    g_cut = self.cut_edges(edges_to_cut)\n",
    "    causes = set()\n",
    "    for node in nodes:\n",
    "        causes.update(self.get_ancestors(node, g_cut))\n",
    "    return causes\n",
    "\n",
    "CausalGraph.get_causes = get_causes"
   ]
  },
  {
   "cell_type": "code",
   "execution_count": null,
   "metadata": {},
   "outputs": [],
   "source": [
    "#hide\n",
    "assert {'X0', 'U', 'W0', 'V0', 'V1'} == cg.get_causes(['Y'])\n",
    "assert {'U', 'W0'} == cg.get_causes(['V0'])\n",
    "assert cg_ref.get_causes(['Y']) == cg.get_causes(['Y'])\n",
    "assert cg_ref.get_causes(['V0']) == cg.get_causes(['V0'])"
   ]
  },
  {
   "cell_type": "code",
   "execution_count": null,
   "metadata": {},
   "outputs": [
    {
     "data": {
      "text/plain": [
       "{'U', 'W0'}"
      ]
     },
     "execution_count": null,
     "metadata": {},
     "output_type": "execute_result"
    }
   ],
   "source": [
    "cg.get_causes(['V0'])"
   ]
  },
  {
   "cell_type": "code",
   "execution_count": null,
   "metadata": {},
   "outputs": [],
   "source": [
    "#export\n",
    "def get_instruments(self, treatments:List[str], outcome:str):\n",
    "    treatment_parents_edges = set()\n",
    "    treatment_parents = set()\n",
    "    for treatment in treatments:\n",
    "        parents = self.get_ancestors(treatment, parents_only=True)\n",
    "        treatment_parents.update(parents)\n",
    "        treatment_parents_edges.update([(parent, treatment) \n",
    "                               for parent in parents])\n",
    "    \n",
    "    g_cut = self.cut_edges(treatment_parents_edges)\n",
    "    \n",
    "    outcome_ancestors = self.get_ancestors(outcome, g_cut)\n",
    "    \n",
    "    instruments_candidates = treatment_parents.difference(outcome_ancestors)\n",
    "    \n",
    "    descendants = set()\n",
    "    for parent in outcome_ancestors:\n",
    "        descendants.update(nx.descendants(g_cut, parent))\n",
    "    instruments = instruments_candidates.difference(descendants)\n",
    "    return instruments\n",
    "\n",
    "CausalGraph.get_instruments = get_instruments"
   ]
  },
  {
   "cell_type": "code",
   "execution_count": null,
   "metadata": {},
   "outputs": [
    {
     "data": {
      "image/png": "[encoded data removed]",
      "text/latex": [
       "$\\displaystyle \\left\\{\\right\\}$"
      ],
      "text/plain": [
       "set()"
      ]
     },
     "execution_count": null,
     "metadata": {},
     "output_type": "execute_result"
    }
   ],
   "source": [
    "cg.get_instruments(treatments, outcome)"
   ]
  },
  {
   "cell_type": "code",
   "execution_count": null,
   "metadata": {},
   "outputs": [],
   "source": [
    "#hide\n",
    "assert set(cg_ref.get_instruments(treatments, [outcome])) == set(cg.get_instruments(treatments, outcome))"
   ]
  },
  {
   "cell_type": "code",
   "execution_count": null,
   "metadata": {},
   "outputs": [],
   "source": [
    "#export\n",
    "def get_effect_modifiers(self, treatments:List[str], outcomes:List[str]):\n",
    "    modifiers = set()\n",
    "    for outcome in outcomes:\n",
    "        modifiers.update(self.get_ancestors(outcome))\n",
    "    modifiers = modifiers.difference(treatments)\n",
    "    for treatment in treatments:\n",
    "        modifiers = modifiers.difference(self.get_ancestors(treatment))\n",
    "    return list(modifiers)\n",
    "    \n",
    "CausalGraph.get_effect_modifiers = get_effect_modifiers"
   ]
  },
  {
   "cell_type": "code",
   "execution_count": null,
   "metadata": {},
   "outputs": [
    {
     "data": {
      "text/plain": [
       "['X0']"
      ]
     },
     "execution_count": null,
     "metadata": {},
     "output_type": "execute_result"
    }
   ],
   "source": [
    "cg.get_effect_modifiers(treatments, [outcome])"
   ]
  },
  {
   "cell_type": "code",
   "execution_count": null,
   "metadata": {},
   "outputs": [],
   "source": [
    "#hide\n",
    "assert set(cg_ref.get_effect_modifiers(treatments, [outcome])) == set(cg.get_effect_modifiers(treatments, [outcome])), f'{effect_modifiers} != {cg.get_effect_modifiers(treatments, [outcome])}'"
   ]
  },
  {
   "cell_type": "code",
   "execution_count": null,
   "metadata": {},
   "outputs": [],
   "source": [
    "#export\n",
    "class CausalModel:\n",
    "    \n",
    "    def __init__(self, treatments:List[str], outcome:str='Y',\n",
    "                 common_causes:List[str]=None, effect_modifiers:List[str]=None,\n",
    "                 instruments:List[str]=None, causal_graph_kwargs=None):\n",
    "        if not causal_graph_kwargs: causal_graph_kwargs = dict()\n",
    "        self.cg = CausalGraph(treatments, outcome, \n",
    "                              common_causes=common_causes,\n",
    "                              effect_modifiers=effect_modifiers, \n",
    "                              instruments=instruments, \n",
    "                              **causal_graph_kwargs)\n",
    "        self.treatments = treatments\n",
    "        self.outcome = outcome\n",
    "        self.common_causes = common_causes\n",
    "        self.effect_modifiers = effect_modifiers\n",
    "        self.instruments = instruments\n",
    "        \n",
    "    def identify_effect(self):\n",
    "        pass\n",
    "    def estimate_effect(self):\n",
    "        pass\n",
    "    def refute_estimate(self):\n",
    "        pass"
   ]
  },
  {
   "cell_type": "code",
   "execution_count": null,
   "metadata": {},
   "outputs": [],
   "source": [
    "treatments = ['V0', 'V1']\n",
    "outcome = 'Y'\n",
    "common_causes = ['W0']\n",
    "effect_modifiers = ['X0']\n",
    "instruments = []\n",
    "observed_nodes = treatments + [outcome] + instruments + effect_modifiers\n",
    "add_unobserved_confounder = True\n",
    "missing_nodes_as_confounders = True\n",
    "\n",
    "cg_kwargs = dict(\n",
    "    missing_nodes_as_confounders=missing_nodes_as_confounders,\n",
    "    add_unobserved_confounder=add_unobserved_confounder,\n",
    "    observed_nodes=observed_nodes\n",
    ")"
   ]
  },
  {
   "cell_type": "code",
   "execution_count": null,
   "metadata": {},
   "outputs": [],
   "source": [
    "cm = CausalModel(treatments=treatments, outcome=outcome, common_causes=common_causes,\n",
    "                 effect_modifiers=effect_modifiers,\n",
    "                 causal_graph_kwargs=cg_kwargs)"
   ]
  },
  {
   "cell_type": "code",
   "execution_count": null,
   "metadata": {},
   "outputs": [],
   "source": [
    "#export\n",
    "def identify_effect(self, estimand_type:str='nonparametric-ate'):\n",
    "    causes = {\n",
    "        'treatments': self.cg.get_causes(self.treatments),\n",
    "        'effects': self.cg.get_causes([self.outcome], \n",
    "                                      edges_to_cut=[(t, self.outcome) for t in self.treatments])\n",
    "    }\n",
    "    print(f'causes: {causes}')\n",
    "    common_causes = causes['treatments'].intersection(causes['effects'])\n",
    "    print(f'common causes: {common_causes}')\n",
    "    \n",
    "    instruments = self.cg.get_instruments(self.treatments, self.outcome)\n",
    "    \n",
    "    # constructing backdoor estimand\n",
    "    backdoor = self.construct_backdoor(self.treatments, self.outcome,\n",
    "                                       common_causes, estimand_type=estimand_type)\n",
    "    print('Backdoor:', backdoor)\n",
    "    \n",
    "    # constructing instrumental variable estimand\n",
    "    instrumental_variable = None\n",
    "    if len(instruments) > 0:\n",
    "        instrumental_variable = self.construct_instrumental_variable(treatments, outcome, instruments,\n",
    "                                                                 estimand_type=estimand_type)\n",
    "    \n",
    "    print('Instrumental variable:', instrumental_variable)\n",
    "    return {\n",
    "        'observed_common_causes': common_causes,\n",
    "        'backdoor': backdoor,\n",
    "        'instrumental_variable': instrumental_variable\n",
    "    }\n",
    "    \n",
    "def construct_backdoor(self, treatments:List[str], outcome:str, \n",
    "                       common_causes:List[str], \n",
    "                       estimand_type:str='nonparametric-ate'):\n",
    "    \n",
    "    if estimand_type != 'nonparametric-ate': raise NotImplementedError\n",
    "    \n",
    "    # treatment variables\n",
    "    sym_treatments = sp.Array([sp.Symbol(treatment) for treatment in treatments])\n",
    "    \n",
    "    # outcome given common causes\n",
    "    expr = f'{outcome} | {\",\".join(common_causes)}' \\\n",
    "        if len(common_causes) > 0 else outcome  \n",
    "    \n",
    "    # assigning a normal distribution to the outcome given common causes\n",
    "    sym_mu = sp.Symbol(\"mu\")                                                                           \n",
    "    sym_sigma = sp.Symbol(\"sigma\", positive=True)\n",
    "    sym_outcome = sp.stats.Normal(expr, sym_mu, sym_sigma)\n",
    "    # expected outcome given common causes\n",
    "    sym_conditional_outcome = sp.stats.Expectation(sym_outcome) \n",
    "    \n",
    "    # effect of treatment on outcome given common causes\n",
    "    sym_effect = sp.Derivative(sym_conditional_outcome, sym_treatments) \n",
    "    return sym_effect\n",
    "\n",
    "def construct_instrumental_variable(self, treatments:List[str], outcome:str, \n",
    "                                    instruments:List[str], estimand_type:str='nonparametric-ate'):\n",
    "    \n",
    "    if estimand_type != 'nonparametric-ate': raise NotImplementedError\n",
    "    \n",
    "    sym_mu, sym_sigma = 0, 1\n",
    "    sym_outcome = sp.stats.Normal(outcome, sym_mu, sym_sigma)\n",
    "    sym_treatments = sp.Array([sp.Symbol(sp.stats.Normal(treatment, sym_mu, sym_sigma)) \n",
    "                              for treatment in treatments])\n",
    "    sym_instruments = sp.Array([sp.Symbol(instrument) \n",
    "                                for instrument in instruments])\n",
    "    sym_effect = sp.stats.Expectation(\n",
    "        sp.Derivative(sym_outcome, sym_instruments) \n",
    "        / \n",
    "        sp.Derivative(sym_treatments, sym_instruments)\n",
    "    )\n",
    "    \n",
    "    return sym_effect\n",
    "\n",
    "CausalModel.construct_backdoor = construct_backdoor\n",
    "CausalModel.construct_instrumental_variable = construct_instrumental_variable\n",
    "CausalModel.identify_effect = identify_effect"
   ]
  },
  {
   "cell_type": "code",
   "execution_count": null,
   "metadata": {},
   "outputs": [
    {
     "name": "stdout",
     "output_type": "stream",
     "text": [
      "causes: {'treatments': {'U', 'W0'}, 'effects': {'U', 'X0', 'W0'}}\n",
      "common causes: {'U', 'W0'}\n",
      "Backdoor: Derivative(Expectation(Y | U,W0), [V0, V1])\n",
      "Instrumental variable: None\n"
     ]
    },
    {
     "data": {
      "text/plain": [
       "{'observed_common_causes': {'U', 'W0'},\n",
       " 'backdoor': Derivative(Expectation(Y | U,W0), [V0, V1]),\n",
       " 'instrumental_variable': None}"
      ]
     },
     "execution_count": null,
     "metadata": {},
     "output_type": "execute_result"
    }
   ],
   "source": [
    "estimands = cm.identify_effect(); estimands"
   ]
  },
  {
   "cell_type": "markdown",
   "metadata": {},
   "source": [
    "Regression estimators based on sklearn regression classes"
   ]
  },
  {
   "cell_type": "code",
   "execution_count": null,
   "metadata": {},
   "outputs": [
    {
     "data": {
      "text/plain": [
       "True"
      ]
     },
     "execution_count": null,
     "metadata": {},
     "output_type": "execute_result"
    }
   ],
   "source": [
    "isinstance(linear_model.LinearRegression(), sklearn.base.RegressorMixin)"
   ]
  },
  {
   "cell_type": "code",
   "execution_count": null,
   "metadata": {},
   "outputs": [],
   "source": [
    "#export\n",
    "class RegressionEstimator:\n",
    "    \n",
    "    def __init__(self, model:sklearn.base.RegressorMixin):\n",
    "        assert isinstance(model, sklearn.base.RegressorMixin)\n",
    "        self.m = model\n",
    "        \n",
    "    def fit(self, X:np.ndarray, y:np.ndarray, ix:int, ix_confounders:List[int], reset:bool=True):\n",
    "        if not isinstance(ix_confounders, list):\n",
    "            ix_confounders = list(ix_confounders)\n",
    "        self.ix = ix\n",
    "        self.ix_confounders = ix_confounders\n",
    "        _ix = [ix] + ix_confounders\n",
    "        self._ix = _ix\n",
    "        if reset:\n",
    "            self.m.fit(X[:,self._ix],y)\n",
    "            \n",
    "    def estimate_effect(self, X:np.ndarray, treatment:Union[int, float], control:Union[int, float]):\n",
    "        n, _ = X.shape\n",
    "        _X = X.copy()\n",
    "        _X[:, self.ix] = treatment\n",
    "        \n",
    "        treatment_outcomes = self.m.predict(_X[:, self._ix])\n",
    "        _X[:, self.ix] = control\n",
    "        control_outcomes = self.m.predict(_X[:, self._ix])\n",
    "        \n",
    "        treatment_mean = treatment_outcomes.mean()\n",
    "        control_mean = control_outcomes.mean()\n",
    "        ate = treatment_mean - control_mean\n",
    "        \n",
    "        return ate"
   ]
  },
  {
   "cell_type": "markdown",
   "metadata": {},
   "source": [
    "Sanity checking on a quadratic polynomial toy dataset"
   ]
  },
  {
   "cell_type": "code",
   "execution_count": null,
   "metadata": {},
   "outputs": [
    {
     "data": {
      "image/png": "[encoded data removed]",
      "text/plain": [
       "<Figure size 576x288 with 1 Axes>"
      ]
     },
     "metadata": {
      "needs_background": "light"
     },
     "output_type": "display_data"
    }
   ],
   "source": [
    "X = np.linspace(-1, 1, 200)\n",
    "X = np.array([X**2, X, np.ones(len(X))*.5]).T\n",
    "w = np.array([2, 0, .5])\n",
    "y = X @ w\n",
    "\n",
    "fig, ax = plt.subplots(figsize=(8,4), constrained_layout=True)\n",
    "ax.scatter(X[:,-2], y)\n",
    "ax.set(xlabel='x', ylabel='y', title='dataset')\n",
    "plt.show()"
   ]
  },
  {
   "cell_type": "code",
   "execution_count": null,
   "metadata": {},
   "outputs": [
    {
     "name": "stdout",
     "output_type": "stream",
     "text": [
      "ate = 2.000 coefs [ 2.00000000e+00 -1.27928927e-17]\n"
     ]
    }
   ],
   "source": [
    "regression_model = linear_model.LinearRegression()\n",
    "estimator = RegressionEstimator(regression_model)\n",
    "estimator.fit(X, y, ix=0, ix_confounders=[1])\n",
    "ate = estimator.estimate_effect(X=X, treatment=1, control=0)\n",
    "print(f'ate = {ate:.3f} coefs {estimator.m.coef_}')"
   ]
  },
  {
   "cell_type": "code",
   "execution_count": null,
   "metadata": {},
   "outputs": [],
   "source": [
    "#hide\n",
    "assert np.isclose(ate, w[0], atol=.1)"
   ]
  },
  {
   "cell_type": "markdown",
   "metadata": {},
   "source": [
    "Classification estimator\n",
    "\n",
    "propensity score: common causes -> prediction of treatment (class) -> grouping by score to select pairs of most similar treatment and control group samples to compute the difference in outcome\n",
    "\n",
    "grouping is done using some nearest neighbour search:\n",
    "- ATC if nearest neighbor is set up with the **treated** group and for each **control** group sample a match is looked up and then the difference of the outcome is computed\n",
    "- ATT if nearest neighbor is set up with the **control** group and for each **treated** group sample a match is looked up and then the difference of the outcome is computed"
   ]
  },
  {
   "cell_type": "code",
   "execution_count": null,
   "metadata": {},
   "outputs": [
    {
     "data": {
      "image/png": "[encoded data removed]",
      "text/plain": [
       "<Figure size 576x432 with 4 Axes>"
      ]
     },
     "metadata": {
      "needs_background": "light"
     },
     "output_type": "display_data"
    },
    {
     "data": {
      "image/png": "[encoded data removed]",
      "text/plain": [
       "<Figure size 576x288 with 1 Axes>"
      ]
     },
     "metadata": {
      "needs_background": "light"
     },
     "output_type": "display_data"
    },
    {
     "data": {
      "image/png": "[encoded data removed]",
      "text/latex": [
       "$\\displaystyle \\left( \\left( 200, \\  3\\right), \\  \\left( 200\\right)\\right)$"
      ],
      "text/plain": [
       "((200, 3), (200,))"
      ]
     },
     "execution_count": null,
     "metadata": {},
     "output_type": "execute_result"
    }
   ],
   "source": [
    "n = 200\n",
    "x_treatment = np.random.choice([True, False], p=[.5, .5], size=n)\n",
    "x_common_causes = np.array([\n",
    "    [np.random.normal(loc=v, scale=.1) for v in x_treatment],\n",
    "    [np.random.normal(loc=10-v, scale=.1) for v in x_treatment],\n",
    "])\n",
    "\n",
    "y_outcome = np.array([np.random.normal(loc=v, scale=.1) for v in x_treatment])\n",
    "\n",
    "fig, axs = plt.subplots(figsize=(8,6), nrows=4, constrained_layout=True)\n",
    "axs[0].hist(x_treatment.astype(float))\n",
    "axs[0].set(xlabel='treatment')\n",
    "axs[1].hist(x_common_causes[0])\n",
    "axs[1].set(xlabel='cc0')\n",
    "axs[2].hist(x_common_causes[1])\n",
    "axs[2].set(xlabel='cc1')\n",
    "axs[3].hist(y_outcome)\n",
    "axs[3].set(xlabel='outcome')\n",
    "plt.show()\n",
    "\n",
    "fig, ax = plt.subplots(figsize=(8,4), constrained_layout=True)\n",
    "ax.scatter(x_treatment, y_outcome)\n",
    "ax.set(xlabel='treatment', ylabel='outcome', title='dataset')\n",
    "plt.show()\n",
    "\n",
    "X, y = np.concatenate((x_treatment[:,None], x_common_causes.T), axis=1), y_outcome\n",
    "X.shape, y.shape"
   ]
  },
  {
   "cell_type": "code",
   "execution_count": null,
   "metadata": {},
   "outputs": [],
   "source": [
    "from sklearn import neighbors"
   ]
  },
  {
   "cell_type": "code",
   "execution_count": null,
   "metadata": {},
   "outputs": [],
   "source": [
    "class PropensityScoreMatcher:\n",
    "    \n",
    "    def __init__(self, propensity_model:sklearn.base.ClassifierMixin):\n",
    "        assert isinstance(propensity_model, sklearn.base.ClassifierMixin)\n",
    "        self.pm = propensity_model\n",
    "        \n",
    "    def fit(self, X:np.ndarray, y:np.ndarray, ix:int, ix_confounders:List[int], reset:bool=True):\n",
    "        '''building the classifier model & nearest neigbhor search thingy\n",
    "        \n",
    "        ix: needs to point to a binary variable\n",
    "        '''\n",
    "        if not isinstance(ix_confounders, list):\n",
    "            ix_confounders = list(ix_confounders)\n",
    "        self.ix = ix\n",
    "        self.ix_confounders = ix_confounders\n",
    "\n",
    "        _ix = [ix] + ix_confounders\n",
    "        self._ix = _ix\n",
    "        if reset:\n",
    "            self.pm.fit(X[:, self.ix_confounders], X[:,self.ix])\n",
    "                     \n",
    "    def estimate_effect(self, X:np.ndarray, y:np.ndarray, treatment:Union[int, bool], control:Union[int, bool],\n",
    "                        kind:str='ate'):\n",
    "        \n",
    "        assert kind in ['ate', 'att', 'atc']\n",
    "        propensity_score = self.pm.predict(X[:, self.ix_confounders])\n",
    "        ix_treat, ix_control = X[:,self.ix] == treatment, X[:,self.ix] == control\n",
    "        \n",
    "        X_treat, X_cont = X[ix_treat,:], X[ix_control,:]\n",
    "        y_treat, y_cont = y[ix_treat], y[ix_control]\n",
    "        \n",
    "        searcher = neighbors.NearestNeighbors(n_neighbors=1)\n",
    "        \n",
    "        def get_att():\n",
    "            searcher.fit(propensity_score[ix_control][:,None])\n",
    "            distances, indices = searcher.kneighbors(propensity_score[ix_treat][:,None])\n",
    "            \n",
    "            att = 0\n",
    "            n_treat = ix_treat.sum()\n",
    "            for i in range(n_treat):\n",
    "                out_treat = y_treat[i]\n",
    "                out_cont = y_cont[indices[i][0]]\n",
    "                att += out_treat - out_cont\n",
    "            return att / n_treat\n",
    "        \n",
    "        def get_atc():\n",
    "            searcher.fit(propensity_score[ix_treat][:,None])\n",
    "            distances, indices = searcher.kneighbors(propensity_score[ix_control][:,None])\n",
    "            \n",
    "            atc = 0\n",
    "            n_cont = ix_control.sum()\n",
    "            for i in range(n_cont):\n",
    "                out_treat = y_treat[indices[i][0]]\n",
    "                out_cont = y_cont[i]\n",
    "                atc += out_treat - out_cont\n",
    "            return atc / n_cont\n",
    "        \n",
    "        def get_ate():\n",
    "            n_treat = ix_treat.sum()\n",
    "            n_cont = ix_control.sum()\n",
    "            att = get_att()\n",
    "            atc = get_atc()\n",
    "            return (att*n_treat + atc*n_cont) / (n_treat + n_cont)\n",
    "        \n",
    "        if kind == 'att':\n",
    "            return get_att()\n",
    "        elif kind == 'atc':\n",
    "            return get_atc()\n",
    "        elif kind == 'ate':\n",
    "            return get_ate()\n",
    "        else:\n",
    "            raise NotImplementedError"
   ]
  },
  {
   "cell_type": "code",
   "execution_count": null,
   "metadata": {},
   "outputs": [
    {
     "name": "stdout",
     "output_type": "stream",
     "text": [
      "ate = 0.934\n"
     ]
    }
   ],
   "source": [
    "propensity_model = linear_model.LogisticRegression(solver='lbfgs')\n",
    "estimator = PropensityScoreMatcher(propensity_model)\n",
    "estimator.fit(X, y, ix=0, ix_confounders=[1, 2])\n",
    "ate = estimator.estimate_effect(X=X, y=y, treatment=True, control=False)\n",
    "print(f'ate = {ate:.3f}')"
   ]
  },
  {
   "cell_type": "markdown",
   "metadata": {},
   "source": [
    "Generating data for the graphical model using `bcg.basics` functions"
   ]
  },
  {
   "cell_type": "code",
   "execution_count": null,
   "metadata": {},
   "outputs": [],
   "source": [
    "from bcg.basics import CommonCauses, Instruments, EffectModifiers, Treatments, Outcomes, get_Xy\n",
    "import pandas as pd"
   ]
  },
  {
   "cell_type": "code",
   "execution_count": null,
   "metadata": {},
   "outputs": [],
   "source": [
    "outcome_is_binary = False\n",
    "\n",
    "n = 333\n",
    "n_common_causes = len(common_causes)\n",
    "n_instruments = len(instruments)\n",
    "n_eff_mods = len(effect_modifiers)\n",
    "n_treatments = len(treatments)\n",
    "beta = 1  # max random value\n",
    "\n",
    "cc = CommonCauses.get_obs(n, n_common_causes)\n",
    "ins = Instruments.get_obs(n, n_instruments)\n",
    "em = EffectModifiers.get_obs(n, n_eff_mods)\n",
    "treat = Treatments.get_obs(n, n_treatments, cc, ins, beta)\n",
    "out = Outcomes.get_obs(treat, cc, em, outcome_is_binary=outcome_is_binary)\n",
    "obs = pd.concat((treat.obs, cc.obs, em.obs, ins.obs, out.obs), axis=1)\n",
    "X, y, not_target = get_Xy(obs, target=outcome)"
   ]
  },
  {
   "cell_type": "code",
   "execution_count": null,
   "metadata": {},
   "outputs": [
    {
     "data": {
      "text/html": [
       "<div>\n",
       "<style scoped>\n",
       "    .dataframe tbody tr th:only-of-type {\n",
       "        vertical-align: middle;\n",
       "    }\n",
       "\n",
       "    .dataframe tbody tr th {\n",
       "        vertical-align: top;\n",
       "    }\n",
       "\n",
       "    .dataframe thead th {\n",
       "        text-align: right;\n",
       "    }\n",
       "</style>\n",
       "<table border=\"1\" class=\"dataframe\">\n",
       "  <thead>\n",
       "    <tr style=\"text-align: right;\">\n",
       "      <th></th>\n",
       "      <th>V0</th>\n",
       "      <th>V1</th>\n",
       "      <th>W0</th>\n",
       "      <th>X0</th>\n",
       "      <th>Y</th>\n",
       "    </tr>\n",
       "  </thead>\n",
       "  <tbody>\n",
       "    <tr>\n",
       "      <th>0</th>\n",
       "      <td>-2.062174</td>\n",
       "      <td>0.101653</td>\n",
       "      <td>0.436554</td>\n",
       "      <td>1.178004</td>\n",
       "      <td>-2.000886</td>\n",
       "    </tr>\n",
       "    <tr>\n",
       "      <th>1</th>\n",
       "      <td>-0.427900</td>\n",
       "      <td>1.065733</td>\n",
       "      <td>0.469966</td>\n",
       "      <td>-2.688262</td>\n",
       "      <td>1.289903</td>\n",
       "    </tr>\n",
       "    <tr>\n",
       "      <th>2</th>\n",
       "      <td>-0.129719</td>\n",
       "      <td>0.774790</td>\n",
       "      <td>0.020602</td>\n",
       "      <td>0.415508</td>\n",
       "      <td>0.629129</td>\n",
       "    </tr>\n",
       "    <tr>\n",
       "      <th>3</th>\n",
       "      <td>0.619531</td>\n",
       "      <td>0.667485</td>\n",
       "      <td>1.157490</td>\n",
       "      <td>-2.368033</td>\n",
       "      <td>1.028694</td>\n",
       "    </tr>\n",
       "    <tr>\n",
       "      <th>4</th>\n",
       "      <td>-1.534733</td>\n",
       "      <td>-0.980660</td>\n",
       "      <td>-0.784079</td>\n",
       "      <td>0.140463</td>\n",
       "      <td>-2.551118</td>\n",
       "    </tr>\n",
       "  </tbody>\n",
       "</table>\n",
       "</div>"
      ],
      "text/plain": [
       "         V0        V1        W0        X0         Y\n",
       "0 -2.062174  0.101653  0.436554  1.178004 -2.000886\n",
       "1 -0.427900  1.065733  0.469966 -2.688262  1.289903\n",
       "2 -0.129719  0.774790  0.020602  0.415508  0.629129\n",
       "3  0.619531  0.667485  1.157490 -2.368033  1.028694\n",
       "4 -1.534733 -0.980660 -0.784079  0.140463 -2.551118"
      ]
     },
     "execution_count": null,
     "metadata": {},
     "output_type": "execute_result"
    }
   ],
   "source": [
    "obs.head()"
   ]
  },
  {
   "cell_type": "code",
   "execution_count": null,
   "metadata": {},
   "outputs": [
    {
     "data": {
      "image/png": "[encoded data removed]",
      "text/latex": [
       "$\\displaystyle 0$"
      ],
      "text/plain": [
       "0"
      ]
     },
     "execution_count": null,
     "metadata": {},
     "output_type": "execute_result"
    }
   ],
   "source": [
    "not_target.index('V0')"
   ]
  },
  {
   "cell_type": "markdown",
   "metadata": {},
   "source": [
    "Adding effect estimate functionality to `CausalModel`"
   ]
  },
  {
   "cell_type": "markdown",
   "metadata": {},
   "source": [
    "Changing the implementation of `get_Xy`, incorporating products with effect modifiers, based on lns 59-71 in `causal_estimators/linear_regression_estimator.py` with the new argument`feature_product_groups`. The variable is supposed to consist of two lists, each containing features in `obs`, of which all products will be computed."
   ]
  },
  {
   "cell_type": "code",
   "execution_count": null,
   "metadata": {},
   "outputs": [],
   "source": [
    "#export \n",
    "def get_Xy(obs:pd.DataFrame, target:str='Y', feature_product_groups:List[list]=None):\n",
    "    'feaure_product_groups (e.g. [[\"V0\", \"V1\", \"W0\"], [\"X0\", \"X1\"]]) to compute products between each var in the first and second list (not within each list)'\n",
    "    not_target = [c for c in obs.columns if c != target and c not in feature_product_groups[1]]\n",
    "#     out_cols = [col for col in obs.columns if col != target ]\n",
    "    \n",
    "    X, y = obs.loc[:, not_target].values, \\\n",
    "           obs.loc[:, target].values.ravel()\n",
    "    if feature_product_groups:\n",
    "        assert isinstance(feature_product_groups, list)\n",
    "        assert len(feature_product_groups) == 2\n",
    "        assert all([isinstance(f, list) for f in feature_product_groups])\n",
    "        product_cols = [(t,e) for t,e in itertools.product(*feature_product_groups)]\n",
    "        cols = list(obs.columns.values)\n",
    "        for t, e in product_cols:\n",
    "            ix_t = cols.index(t)\n",
    "            ix_e = cols.index(e)\n",
    "            x = (obs[t] * obs[e]).values\n",
    "            X = np.concatenate((X, x[:,None]), axis=1)\n",
    "            not_target.append(f'{t}_{e}')\n",
    "    return X, y, not_target"
   ]
  },
  {
   "cell_type": "code",
   "execution_count": null,
   "metadata": {},
   "outputs": [
    {
     "data": {
      "text/plain": [
       "(array([[-2.06217367,  0.10165321,  0.43655352, -2.42924804,  0.11974785],\n",
       "        [-0.42790025,  1.0657328 ,  0.46996561,  1.15030778, -2.86496848],\n",
       "        [-0.12971905,  0.77479028,  0.02060249, -0.05389931,  0.32193163],\n",
       "        ...,\n",
       "        [-0.70966697, -2.32796402,  2.20724734,  1.55402541,  5.09776475],\n",
       "        [-0.25905595,  0.65131404, -1.21140486, -0.27757741,  0.69788037],\n",
       "        [-2.00116322,  1.11825031, -0.59807879, -0.70160665,  0.3920579 ]]),\n",
       " array([-2.00088554e+00,  1.28990295e+00,  6.29129211e-01,  1.02869396e+00,\n",
       "        -2.55111836e+00, -3.51175561e+00,  1.20114004e+00,  3.42398321e+00,\n",
       "        -2.03925649e-01, -3.17895805e-01, -4.86210253e-01,  2.67238977e+00,\n",
       "        -1.98586261e+00, -1.47312630e-01, -2.35017626e+00,  1.57634593e+00,\n",
       "        -7.98529682e-03,  2.03960993e+00, -2.97333989e-02,  1.99258422e+00,\n",
       "        -1.95795397e+00, -3.15112426e+00,  2.08422323e-01, -2.56672731e+00,\n",
       "         1.90783941e-01, -1.54400188e+00,  3.54015014e-01, -1.84158445e+00,\n",
       "         6.91561079e-01,  1.03701002e+00, -1.83589506e+00, -2.80848520e+00,\n",
       "        -4.05577945e-02, -1.61465708e-01, -2.03255784e+00, -2.67296622e-01,\n",
       "        -1.09234139e+00,  9.85344137e-01,  2.27331854e+00, -1.36440677e-05,\n",
       "         1.50062976e+00, -2.50677179e+00, -1.65496159e-01,  1.90127938e+00,\n",
       "        -4.11625549e-01, -1.16997825e+00, -2.43060065e+00, -6.84318537e-01,\n",
       "        -1.28929475e+00,  9.36915180e-01, -9.94345372e-01, -3.05584173e-02,\n",
       "        -1.13724121e-01,  1.49853777e+00,  3.25178688e-01, -1.60816804e+00,\n",
       "        -2.41208221e-01, -3.04949638e+00, -1.92796954e+00, -2.74790556e+00,\n",
       "        -1.40109805e+00,  7.21172948e-01, -1.11893207e+00,  2.25396006e+00,\n",
       "        -1.71735413e+00, -6.80704531e-02,  5.78367472e-01, -1.33017454e+00,\n",
       "         1.46139345e+00,  4.50276075e-01,  5.15020168e-01, -6.24599298e-01,\n",
       "         2.40227071e+00,  1.57840911e+00, -2.05212573e+00,  4.77346231e-01,\n",
       "        -9.96585703e-01, -3.38758867e-01,  5.40041886e-01,  1.04126740e+00,\n",
       "         2.97904266e+00, -1.21241554e+00, -1.42016589e-01,  1.99485047e-01,\n",
       "         2.37757213e+00,  2.66380923e-01, -9.99647364e-01, -9.81580533e-01,\n",
       "         2.50817011e+00, -3.90518590e-01, -1.61490911e-01,  2.80338769e-01,\n",
       "        -9.74251882e-01,  7.29588444e-01, -2.21691704e+00,  5.00268653e-01,\n",
       "         9.57481473e-01, -1.82121093e+00, -6.80288534e-01, -1.00565718e-01,\n",
       "        -1.13919341e+00,  2.90608063e+00,  9.09666620e-01, -3.80459898e-01,\n",
       "        -3.75141727e+00,  5.94499217e-01,  1.57481257e+00, -3.54332134e-01,\n",
       "        -1.16629688e+00,  9.28148791e-02, -5.15576833e-01, -4.21151253e-01,\n",
       "        -1.59990733e+00, -1.62610919e-01, -7.98082058e-01, -2.22231256e+00,\n",
       "        -7.98531081e-01, -2.27683435e+00,  2.63554395e+00,  2.79790030e-01,\n",
       "        -1.01691795e+00,  2.84043167e+00,  5.04641015e-01,  1.87248497e+00,\n",
       "        -3.48560993e+00,  1.14725802e+00,  1.70058117e+00, -5.90448858e-01,\n",
       "        -1.25108848e+00,  2.02044429e+00, -4.55973239e-02,  1.39744218e+00,\n",
       "         4.99275220e-01, -1.02931515e+00,  1.32842286e+00,  1.87790675e+00,\n",
       "        -1.62234746e-01,  3.96144700e-01, -1.75371849e+00, -2.18599790e+00,\n",
       "        -6.63867456e-01, -3.93152341e-01,  2.17090760e+00,  3.75826825e+00,\n",
       "         4.13718577e-01,  8.81647288e-01,  8.56134019e-01, -2.05779660e+00,\n",
       "         2.02746096e-01,  3.28988473e-01, -1.08672632e+00,  4.72506945e-01,\n",
       "         3.40321878e-01,  5.41485401e-01, -1.70069496e+00,  5.33855014e-01,\n",
       "        -1.59919751e+00,  8.98526108e-01,  2.31493259e-01, -1.65417833e+00,\n",
       "         8.28136231e-01,  6.83153892e-01,  2.15579263e+00,  8.95843120e-01,\n",
       "        -1.30166776e+00,  8.44650465e-02, -4.44015249e-01, -6.70209858e-02,\n",
       "        -6.60286824e-02, -1.35061891e+00,  2.12277412e+00, -8.45288266e-01,\n",
       "        -1.57720042e+00,  1.38653433e+00,  1.34143413e+00, -1.97233041e+00,\n",
       "         2.83282372e-01, -6.52914440e-01, -1.45873652e-01, -1.32286098e+00,\n",
       "        -1.13978693e+00,  1.58731948e+00,  2.40904638e+00, -3.06271168e+00,\n",
       "        -2.97197748e+00, -1.59891133e+00, -2.21172409e+00, -9.10388109e-02,\n",
       "        -9.92485425e-01, -6.40967278e-01, -1.84749788e-01,  1.97646838e+00,\n",
       "         9.07217063e-01,  1.33072311e+00,  1.97060011e+00, -1.07771070e+00,\n",
       "         1.09468449e+00,  1.07970190e+00,  8.03442634e-01, -1.37502676e+00,\n",
       "        -2.08289550e+00, -1.59928878e+00, -2.15598635e-01, -1.25604754e+00,\n",
       "        -3.01793448e-01, -1.95973313e-01,  9.90643413e-01, -5.05251544e-01,\n",
       "         5.14270990e-01,  3.85171614e-01,  5.74144772e-01, -1.13989895e+00,\n",
       "        -1.15284950e+00, -1.85400401e+00, -2.67739725e+00, -3.35811169e+00,\n",
       "         1.67727889e+00, -1.56015838e+00, -8.85771878e-01, -5.89676257e-02,\n",
       "         1.99178271e+00, -1.65586690e+00, -1.35075967e+00, -1.65388351e+00,\n",
       "         1.26813487e+00, -5.70342180e-01,  8.36805113e-01, -2.79620181e+00,\n",
       "        -3.83352446e+00,  1.35702144e+00,  3.59460398e-01,  8.78095031e-01,\n",
       "         3.82179974e+00,  3.19785698e+00, -2.39328057e+00,  1.25555540e+00,\n",
       "         7.66590088e-01, -3.13330279e+00, -4.32584903e+00,  2.50369735e+00,\n",
       "        -6.95347796e-01,  1.94077933e+00,  7.67386842e-01, -2.58555741e+00,\n",
       "         1.11675682e+00, -4.36048120e-01, -2.62123348e+00,  1.91786757e+00,\n",
       "         3.18917447e+00, -8.74175940e-01, -1.22220883e+00,  1.76393828e+00,\n",
       "        -4.25173114e-01,  1.36425662e-01,  1.51994375e+00,  1.35713123e+00,\n",
       "        -1.67362347e+00,  2.81090397e+00,  1.78300603e-01,  1.54730366e+00,\n",
       "         1.85846441e-01, -9.80120415e-01,  2.82494045e-01, -6.58598462e-01,\n",
       "        -7.48098271e-02, -1.95833019e-01,  6.26630814e-01,  1.35426687e+00,\n",
       "         8.02359200e-01,  2.02559290e-01, -7.20967548e-01, -2.10852441e+00,\n",
       "         1.24175769e+00,  1.22344558e+00, -1.20736804e+00, -2.02595694e+00,\n",
       "         1.19407361e+00,  2.74697832e-02,  9.60332004e-01,  3.39122686e+00,\n",
       "         1.31280163e+00, -6.59542100e-01, -7.10752174e-01, -1.74481248e+00,\n",
       "        -3.43067430e-01, -2.15100407e+00, -2.15751052e-01,  3.14183759e+00,\n",
       "         3.80593885e-02, -2.54974899e-01, -2.95939816e-01, -1.39589191e+00,\n",
       "         1.28297713e+00, -4.80893160e-02, -1.49749400e+00,  1.92068673e+00,\n",
       "         4.21268325e+00,  4.55789476e-01, -4.73041555e+00, -2.30373026e-01,\n",
       "         2.86018822e+00,  1.54096780e+00, -6.51412333e-01, -8.24654197e-01,\n",
       "         5.69308785e-01,  6.85727524e-01,  5.03523660e-01, -3.51481406e+00,\n",
       "         1.24842806e-01, -9.09281165e-01, -6.74739443e-01,  1.19715965e+00,\n",
       "         6.77460835e-01, -4.83042698e-01,  5.02098915e-01,  1.82037304e+00,\n",
       "        -4.08131476e+00, -7.84086585e-01,  2.46764669e+00, -1.63151257e-01,\n",
       "         1.11451655e+00, -4.65918041e-01, -2.33229809e-02, -2.65765786e+00,\n",
       "         1.09996717e+00,  9.96437486e-01,  5.84960668e-01,  4.88322181e-01,\n",
       "        -8.05496680e-01, -3.75314206e+00, -4.34632827e+00,  1.00485440e-01,\n",
       "        -1.35114930e+00]),\n",
       " ['V0', 'V1', 'W0', 'V0_X0', 'V1_X0'])"
      ]
     },
     "execution_count": null,
     "metadata": {},
     "output_type": "execute_result"
    }
   ],
   "source": [
    "get_Xy(obs, target=outcome, feature_product_groups=[treatments, effect_modifiers])"
   ]
  },
  {
   "cell_type": "code",
   "execution_count": null,
   "metadata": {},
   "outputs": [],
   "source": [
    "#hide\n",
    "X, y, not_target = get_Xy(obs, target=outcome, feature_product_groups=[treatments, effect_modifiers])\n",
    "assert y.shape[0] == X.shape[0]\n",
    "assert X.shape[1] == len(not_target)\n",
    "n_not_target = len(not_target)\n",
    "rest_cols = [v for v in obs.columns.values if v not in effect_modifiers and v != outcome]\n",
    "n_not_target_ideal = len(treatments) * len(effect_modifiers) + len(rest_cols)\n",
    "assert len(not_target) == n_not_target_ideal, f'{n_not_target} != {n_not_target_ideal}: not_target = {not_target}'"
   ]
  },
  {
   "cell_type": "code",
   "execution_count": null,
   "metadata": {},
   "outputs": [],
   "source": [
    "#export\n",
    "def estimate_effect(self, estimands:dict, control_value:float, \n",
    "                    treatment_name:str, treatment_value:float, \n",
    "                    obs:pd.DataFrame, outcome:str='Y',\n",
    "                    causal_method:str='backdoor',\n",
    "                    model:Union[sklearn.base.RegressorMixin,]=None, target_unit:str='ate', \n",
    "                    effect_modifiers:List[str]=None):\n",
    "    assert causal_method in {'backdoor', 'instrumental_variable'}\n",
    "    assert target_unit == 'ate'\n",
    "    \n",
    "    if model is None:\n",
    "        model = linear_model.LinearRegression()        \n",
    "    \n",
    "    if effect_modifiers is None:\n",
    "        effect_modifiers = self.effect_modifiers\n",
    "            \n",
    "    # decide on approach given causal_method and model_type\n",
    "    \n",
    "    # estimate the effect using the arrived on approach\n",
    "    X, y, not_outcome = get_Xy(obs, target=outcome, feature_product_groups=[treatments, effect_modifiers])\n",
    "    estimator = RegressionEstimator(model)\n",
    "    ix = [v.lower() for v in not_outcome].index(treatment_name)\n",
    "    confounders = self.treatments + list(estimands['observed_common_causes']) + effect_modifiers\n",
    "    print('confounders', confounders)\n",
    "    ix_confounders = [_i for _i,_v in enumerate(obs.columns.values) if _v in confounders]\n",
    "    estimator.fit(X, y, ix, ix_confounders)\n",
    "    effect = estimator.estimate_effect(X=X, treatment=treatment_value, control=control_value)\n",
    "    return effect\n",
    "\n",
    "CausalModel.estimate_effect = estimate_effect"
   ]
  },
  {
   "cell_type": "code",
   "execution_count": null,
   "metadata": {},
   "outputs": [
    {
     "name": "stdout",
     "output_type": "stream",
     "text": [
      "confounders ['V0', 'V1', 'U', 'W0', 'X0']\n"
     ]
    },
    {
     "data": {
      "image/png": "[encoded data removed]",
      "text/latex": [
       "$\\displaystyle 1.8283018293864426$"
      ],
      "text/plain": [
       "1.8283018293864426"
      ]
     },
     "execution_count": null,
     "metadata": {},
     "output_type": "execute_result"
    }
   ],
   "source": [
    "causal_method = 'backdoor'\n",
    "control_value = 0\n",
    "treatment_name = 'v0'\n",
    "treatment_value = 2\n",
    "\n",
    "effect_modifiers = effect_modifiers\n",
    "target_unit = 'ate'\n",
    "\n",
    "model = linear_model.LinearRegression()\n",
    "\n",
    "cm.estimate_effect(estimands, control_value, treatment_name, treatment_value,\n",
    "                   obs, outcome=outcome, causal_method=causal_method, model=model,\n",
    "                   target_unit=target_unit, effect_modifiers=effect_modifiers)"
   ]
  },
  {
   "cell_type": "code",
   "execution_count": null,
   "metadata": {},
   "outputs": [],
   "source": [
    "a = np.linspace(1, 4, 5)\n",
    "b = a[:, np.newaxis]; b"
   ]
  },
  {
   "cell_type": "code",
   "execution_count": null,
   "metadata": {},
   "outputs": [],
   "source": []
  }
 ],
 "metadata": {
  "kernelspec": {
   "display_name": "Python [conda env:py37_dowhy]",
   "language": "python",
   "name": "conda-env-py37_dowhy-py"
  }
 },
 "nbformat": 4,
 "nbformat_minor": 4
}
