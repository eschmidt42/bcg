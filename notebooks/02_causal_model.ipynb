{
 "cells": [
  {
   "cell_type": "code",
   "execution_count": null,
   "metadata": {},
   "outputs": [],
   "source": [
    "#default_exp causal_model"
   ]
  },
  {
   "cell_type": "markdown",
   "metadata": {},
   "source": [
    "# Causal Model\n",
    "> Implementing instrumental variable and backdoor criteria plus propensity and regression methods"
   ]
  },
  {
   "cell_type": "markdown",
   "metadata": {},
   "source": [
    "**Notes**\n",
    "\n",
    "* Causal Bayesian Networkx: [here](http://conference.scipy.org/proceedings/scipy2015/pdfs/mike_pacer.pdf)\n",
    "\n",
    "dowhy > causal_model.py CausalModel > causal_graph.py CausalGraph"
   ]
  },
  {
   "cell_type": "code",
   "execution_count": null,
   "metadata": {},
   "outputs": [],
   "source": [
    "#export\n",
    "import dowhy as dw\n",
    "from typing import List\n",
    "import networkx as nx\n",
    "import itertools\n",
    "import sympy as sp"
   ]
  },
  {
   "cell_type": "code",
   "execution_count": null,
   "metadata": {},
   "outputs": [],
   "source": [
    "#export\n",
    "class CausalGraph:\n",
    "    def __init__(self, treatments:List[str], outcome:str='Y', \n",
    "                 common_causes:List[str]=None, effect_modifiers:List[str]=None,\n",
    "                 instruments:List[str]=None, observed_nodes:List[str]=None, \n",
    "                 missing_nodes_as_confounders:bool=False,\n",
    "                 add_unobserved_confounder:bool=True):\n",
    "        if common_causes is None: common_causes = []\n",
    "        if effect_modifiers is None: effect_modifiers = []\n",
    "        if instruments is None: instruments = []\n",
    "        if missing_nodes_as_confounders:\n",
    "            all_passed_nodes = treatments + [outcome] + \\\n",
    "                common_causes + effect_modifiers + instruments\n",
    "            missing_nodes = [node for node in all_passed_nodes if node not in observed_nodes]            \n",
    "            common_causes = list(common_causes) + missing_nodes            \n",
    "            \n",
    "        self.g = self.create_nx_digraph(treatments, outcome, \n",
    "                                        common_causes, instruments, \n",
    "                                        effect_modifiers, add_unobserved_confounder)\n",
    "        \n",
    "    @staticmethod\n",
    "    def create_nx_digraph(treatments:List[str], outcome:str, common_causes:List[str], \n",
    "                          instruments:List[str], effect_modifiers:List[str],\n",
    "                          add_unobserved_confounder:bool=False):\n",
    "        g = nx.DiGraph()\n",
    "        g.add_edges_from([(treatment, outcome) for treatment in treatments])\n",
    "        g.add_edges_from([(common_cause, treatment) \n",
    "                          for common_cause, treatment in itertools.product(common_causes, treatments)])\n",
    "        g.add_edges_from([(common_cause, outcome) \n",
    "                          for common_cause in common_causes])\n",
    "        g.add_edges_from([(effect_modifier, outcome) for effect_modifier in effect_modifiers])\n",
    "        g.add_edges_from([(instrument, treatment) for instrument, treatment in itertools.product(instruments, treatments)])\n",
    "        nx.set_node_attributes(g, True, 'observed')\n",
    "        if add_unobserved_confounder:\n",
    "            g.add_node('U', observed=False)\n",
    "            g.add_edges_from([('U', treatment) for treatment in treatments])\n",
    "            g.add_edge('U', outcome)\n",
    "            \n",
    "        return g\n"
   ]
  },
  {
   "cell_type": "code",
   "execution_count": null,
   "metadata": {},
   "outputs": [],
   "source": [
    "treatments = ['v0', 'v1']\n",
    "outcome = 'Y'\n",
    "common_causes = ['W0']\n",
    "effect_modifiers = ['E0']\n",
    "instruments = []\n",
    "observed_nodes = treatments + [outcome] + instruments + effect_modifiers\n",
    "add_unobserved_confounder = True\n",
    "missing_nodes_as_confounders = True"
   ]
  },
  {
   "cell_type": "code",
   "execution_count": null,
   "metadata": {},
   "outputs": [],
   "source": [
    "cg = CausalGraph(treatments=treatments, outcome=outcome, common_causes=common_causes,\n",
    "                 effect_modifiers=effect_modifiers, observed_nodes=observed_nodes,\n",
    "                 missing_nodes_as_confounders=missing_nodes_as_confounders,\n",
    "                 add_unobserved_confounder=add_unobserved_confounder)"
   ]
  },
  {
   "cell_type": "code",
   "execution_count": null,
   "metadata": {},
   "outputs": [
    {
     "data": {
      "text/plain": [
       "False"
      ]
     },
     "execution_count": null,
     "metadata": {},
     "output_type": "execute_result"
    }
   ],
   "source": [
    "cg.g.nodes['U']['observed']"
   ]
  },
  {
   "cell_type": "code",
   "execution_count": null,
   "metadata": {},
   "outputs": [],
   "source": [
    "#export\n",
    "def show_graph(g:nx.Graph, kind:str='spectral'):\n",
    "    try:\n",
    "        layout = getattr(nx, f'{kind}_layout')(g)\n",
    "    except AttributeError as ae:\n",
    "        raise AttributeError(f'No nx.{kind}_layout found')\n",
    "    nx.draw(g, layout=layout, with_labels=True)\n",
    "\n",
    "def view_graph(self, kind:str='spectral'): \n",
    "    show_graph(self.g, kind=kind)\n",
    "\n",
    "CausalGraph.view_graph = view_graph"
   ]
  },
  {
   "cell_type": "code",
   "execution_count": null,
   "metadata": {},
   "outputs": [
    {
     "data": {
      "image/png": "[encoded data removed]",
      "text/plain": [
       "<Figure size 432x288 with 1 Axes>"
      ]
     },
     "metadata": {},
     "output_type": "display_data"
    }
   ],
   "source": [
    "cg.view_graph()"
   ]
  },
  {
   "cell_type": "code",
   "execution_count": null,
   "metadata": {},
   "outputs": [],
   "source": [
    "#export\n",
    "def get_ancestors(self, node:str, g:nx.DiGraph=None, \n",
    "                  parents_only:bool=False):\n",
    "    if parents_only:\n",
    "        f = self.g if g is None else g\n",
    "        return f.predecessors(node)\n",
    "    return nx.ancestors(self.g if g is None else g, node)\n",
    "\n",
    "CausalGraph.get_ancestors = get_ancestors"
   ]
  },
  {
   "cell_type": "code",
   "execution_count": null,
   "metadata": {},
   "outputs": [
    {
     "data": {
      "text/plain": [
       "{'U', 'W0'}"
      ]
     },
     "execution_count": null,
     "metadata": {},
     "output_type": "execute_result"
    }
   ],
   "source": [
    "cg.get_ancestors('v0')"
   ]
  },
  {
   "cell_type": "code",
   "execution_count": null,
   "metadata": {},
   "outputs": [],
   "source": [
    "#export\n",
    "def cut_edges(self, edges_to_cut:List[tuple]=None):\n",
    "    if edges_to_cut is None: return None\n",
    "    g_cut = self.g.copy()\n",
    "    g_cut.remove_edges_from(edges_to_cut)\n",
    "    return g_cut\n",
    "        \n",
    "CausalGraph.cut_edges = cut_edges"
   ]
  },
  {
   "cell_type": "code",
   "execution_count": null,
   "metadata": {},
   "outputs": [
    {
     "data": {
      "image/png": "[encoded data removed]",
      "text/plain": [
       "<Figure size 432x288 with 1 Axes>"
      ]
     },
     "metadata": {},
     "output_type": "display_data"
    }
   ],
   "source": [
    "g_cut = cg.cut_edges([('U','Y'), ('W0', 'v1')])\n",
    "show_graph(g_cut)"
   ]
  },
  {
   "cell_type": "code",
   "execution_count": null,
   "metadata": {},
   "outputs": [],
   "source": [
    "#hide\n",
    "assert cg.cut_edges() is None"
   ]
  },
  {
   "cell_type": "code",
   "execution_count": null,
   "metadata": {},
   "outputs": [],
   "source": [
    "#export\n",
    "def get_causes(self, nodes:List[str], \n",
    "               edges_to_cut:List[tuple]=None):\n",
    "    g_cut = self.cut_edges(edges_to_cut)\n",
    "    causes = set()\n",
    "    for node in nodes:\n",
    "        causes.update(self.get_ancestors(node, g_cut))\n",
    "    return causes\n",
    "\n",
    "CausalGraph.get_causes = get_causes"
   ]
  },
  {
   "cell_type": "code",
   "execution_count": null,
   "metadata": {},
   "outputs": [],
   "source": [
    "#hide\n",
    "assert {'E0', 'U', 'W0', 'v0', 'v1'} == cg.get_causes(['Y'])\n",
    "assert {'U', 'W0'} == cg.get_causes(['v0'])"
   ]
  },
  {
   "cell_type": "code",
   "execution_count": null,
   "metadata": {},
   "outputs": [
    {
     "data": {
      "text/plain": [
       "{'U', 'W0'}"
      ]
     },
     "execution_count": null,
     "metadata": {},
     "output_type": "execute_result"
    }
   ],
   "source": [
    "cg.get_causes(['v0'])"
   ]
  },
  {
   "cell_type": "markdown",
   "metadata": {},
   "source": [
    "**SANITY CHECK `get_instruments`**"
   ]
  },
  {
   "cell_type": "code",
   "execution_count": null,
   "metadata": {},
   "outputs": [],
   "source": [
    "cg_ref = dw.causal_graph.CausalGraph(treatments,\n",
    "                                 outcome, graph=None,\n",
    "                                 common_cause_names=common_causes,\n",
    "                                 instrument_names=instruments,\n",
    "                                 effect_modifier_names=effect_modifiers,\n",
    "                                 observed_node_names=observed_nodes\n",
    "                                 )"
   ]
  },
  {
   "cell_type": "code",
   "execution_count": null,
   "metadata": {},
   "outputs": [
    {
     "data": {
      "image/png": "[encoded data removed]",
      "text/latex": [
       "$\\displaystyle \\left[ \\right]$"
      ],
      "text/plain": [
       "[]"
      ]
     },
     "execution_count": null,
     "metadata": {},
     "output_type": "execute_result"
    }
   ],
   "source": [
    "cg_ref.get_instruments(treatments, [outcome])"
   ]
  },
  {
   "cell_type": "code",
   "execution_count": null,
   "metadata": {},
   "outputs": [],
   "source": [
    "#export\n",
    "def get_instruments(self, treatments:List[str], outcome:str):\n",
    "    treatment_parents_edges = set()\n",
    "    treatment_parents = set()\n",
    "    for treatment in treatments:\n",
    "        parents = self.get_ancestors(treatment, parents_only=True)\n",
    "        treatment_parents.update(parents)\n",
    "        treatment_parents_edges.update([(parent, treatment) \n",
    "                               for parent in parents])\n",
    "    print('treatment_parents_edges', treatment_parents_edges)\n",
    "    print('treatment_parents', treatment_parents)\n",
    "    g_cut = self.cut_edges(treatment_parents_edges)\n",
    "    \n",
    "    outcome_ancestors = self.get_ancestors(outcome, g_cut)\n",
    "    print('outcome ancestors', outcome_ancestors)\n",
    "    \n",
    "    instruments_candidates = treatment_parents.difference(outcome_ancestors)\n",
    "    print('instruments_candidates', instruments_candidates)\n",
    "    \n",
    "    descendants = set()\n",
    "    for parent in outcome_ancestors:\n",
    "        descendants.update(nx.descendants(g_cut, parent))\n",
    "    print('descendants', descendants)\n",
    "    instruments = instruments_candidates.difference(descendants)\n",
    "    print('instruments', instruments)\n",
    "    return instruments\n",
    "\n",
    "CausalGraph.get_instruments = get_instruments"
   ]
  },
  {
   "cell_type": "code",
   "execution_count": null,
   "metadata": {},
   "outputs": [
    {
     "data": {
      "image/png": "[encoded data removed]",
      "text/latex": [
       "$\\displaystyle \\left[ \\right]$"
      ],
      "text/plain": [
       "[]"
      ]
     },
     "execution_count": null,
     "metadata": {},
     "output_type": "execute_result"
    }
   ],
   "source": [
    "cg.get_instruments(treatments, outcome)"
   ]
  },
  {
   "cell_type": "code",
   "execution_count": null,
   "metadata": {},
   "outputs": [],
   "source": [
    "#hide\n",
    "assert set(cg_ref.get_instruments(treatments, [outcome])) == set(cg.get_instruments(treatments, outcome))"
   ]
  },
  {
   "cell_type": "code",
   "execution_count": null,
   "metadata": {},
   "outputs": [],
   "source": [
    "#export\n",
    "def get_effect_modifiers(self, nodes1:List[str], nodes2:List[str]):\n",
    "    modifiers = set()\n",
    "    for node in nodes2:\n",
    "        modifiers.update(self.get_ancestors(node))\n",
    "    modifiers = modifiers.difference(nodes1)\n",
    "    for node in nodes1:\n",
    "        modifieres = modifiers.difference(self.get_ancestors(node))\n",
    "    return list(modifiers)\n",
    "    \n",
    "CausalGraph.get_effect_modifiers = get_effect_modifiers"
   ]
  },
  {
   "cell_type": "code",
   "execution_count": null,
   "metadata": {},
   "outputs": [
    {
     "data": {
      "text/plain": [
       "['E0']"
      ]
     },
     "execution_count": null,
     "metadata": {},
     "output_type": "execute_result"
    }
   ],
   "source": [
    "cg.get_effect_modifiers(treatments, [outcome])"
   ]
  },
  {
   "cell_type": "code",
   "execution_count": null,
   "metadata": {},
   "outputs": [],
   "source": [
    "#hide\n",
    "assert set(effect_modifiers) == set(cg.get_effect_modifiers(treatments, [outcome]))"
   ]
  },
  {
   "cell_type": "code",
   "execution_count": null,
   "metadata": {},
   "outputs": [],
   "source": [
    "#export\n",
    "class CausalModel:\n",
    "    \n",
    "    def __init__(self, treatments:List[str], outcome:str='Y',\n",
    "                 common_causes:List[str]=None, effect_modifiers:List[str]=None,\n",
    "                 instruments:List[str]=None, causal_graph_kwargs=None):\n",
    "        if not causal_graph_kwargs: causal_graph_kwargs = dict()\n",
    "        self.cg = CausalGraph(treatments, outcome, \n",
    "                              common_causes=common_causes,\n",
    "                              effect_modifiers=effect_modifiers, \n",
    "                              instruments=instruments, \n",
    "                              **causal_graph_kwargs)\n",
    "        self.treatments = treatments\n",
    "        self.outcome = outcome\n",
    "        self.common_causes = common_causes\n",
    "        self.effect_modifiers = effect_modifiers\n",
    "        self.instruments = instruments\n",
    "        \n",
    "    def identify_effect(self):\n",
    "        pass\n",
    "    def estimate_effect(self):\n",
    "        pass\n",
    "    def refute_estimate(self):\n",
    "        pass"
   ]
  },
  {
   "cell_type": "code",
   "execution_count": null,
   "metadata": {},
   "outputs": [],
   "source": [
    "treatments = ['v0', 'v1']\n",
    "outcome = 'Y'\n",
    "common_causes = ['W0']\n",
    "effect_modifiers = ['E0']\n",
    "instruments = []\n",
    "observed_nodes = treatments + [outcome] + instruments + effect_modifiers\n",
    "add_unobserved_confounder = True\n",
    "missing_nodes_as_confounders = True\n",
    "\n",
    "cg_kwargs = dict(\n",
    "    missing_nodes_as_confounders=missing_nodes_as_confounders,\n",
    "    add_unobserved_confounder=add_unobserved_confounder,\n",
    "    observed_nodes=observed_nodes\n",
    ")"
   ]
  },
  {
   "cell_type": "code",
   "execution_count": null,
   "metadata": {},
   "outputs": [],
   "source": [
    "cm = CausalModel(treatments=treatments, outcome=outcome, common_causes=common_causes,\n",
    "                 effect_modifiers=effect_modifiers,\n",
    "                 causal_graph_kwargs=cg_kwargs)"
   ]
  },
  {
   "cell_type": "code",
   "execution_count": null,
   "metadata": {},
   "outputs": [],
   "source": [
    "#export\n",
    "def identify_effect(self, estimand_type:str='nonparametric-ate'):\n",
    "    causes = {\n",
    "        'treatments': self.cg.get_causes(self.treatments),\n",
    "        'effects': self.cg.get_causes([self.outcome], \n",
    "                                      edges_to_cut=[(t, self.outcome) for t in self.treatments])\n",
    "    }\n",
    "    print(f'causes: {causes}')\n",
    "    common_causes = causes['treatments'].intersection(causes['effects'])\n",
    "    print(f'common causes: {common_causes}')\n",
    "    \n",
    "    instruments = self.cg.get_instruments(self.treatments, self.outcome)\n",
    "    \n",
    "    # constructing backdoor estimand\n",
    "    backdoor = self.construct_backdoor(self.treatments, self.outcome,\n",
    "                                       common_causes, estimand_type=estimand_type)\n",
    "    print('Backdoor:', backdoor)\n",
    "    \n",
    "    # constructing instrumental variable estimand\n",
    "    instrumental_variable = None\n",
    "    if len(instruments) > 0:\n",
    "        instrumental_variable = self.construct_instrumental_variable(treatments, outcome, instruments,\n",
    "                                                                 estimand_type=estimand_type)\n",
    "    \n",
    "    print('Instrumental variable:', instrumental_variable)\n",
    "    return {\n",
    "        'backdoor': backdoor,\n",
    "        'instrumental_variable': instrumental_variable\n",
    "    }\n",
    "    \n",
    "def construct_backdoor(self, treatments:List[str], outcome:str, \n",
    "                       common_causes:List[str], \n",
    "                       estimand_type:str='nonparametric-ate'):\n",
    "    \n",
    "    if estimand_type != 'nonparametric-ate': raise NotImplementedError\n",
    "    \n",
    "    # treatment variables\n",
    "    sym_treatments = sp.Array([sp.Symbol(treatment) for treatment in treatments])\n",
    "    \n",
    "    # outcome given common causes\n",
    "    expr = f'{outcome} | {\",\".join(common_causes)}' \\\n",
    "        if len(common_causes) > 0 else outcome  \n",
    "    \n",
    "    # assigning a normal distribution to the outcome given common causes\n",
    "    sym_mu = sp.Symbol(\"mu\")                                                                           \n",
    "    sym_sigma = sp.Symbol(\"sigma\", positive=True)\n",
    "    sym_outcome = sp.stats.Normal(expr, sym_mu, sym_sigma)\n",
    "    # expected outcome given common causes\n",
    "    sym_conditional_outcome = sp.stats.Expectation(sym_outcome) \n",
    "    \n",
    "    # effect of treatment on outcome given common causes\n",
    "    sym_effect = sp.Derivative(sym_conditional_outcome, sym_treatments) \n",
    "    return sym_effect\n",
    "\n",
    "def construct_instrumental_variable(self, treatments:List[str], outcome:str, \n",
    "                                    instruments:List[str], estimand_type:str='nonparametric-ate'):\n",
    "    \n",
    "    if estimand_type != 'nonparametric-ate': raise NotImplementedError\n",
    "    \n",
    "    sym_mu, sym_sigma = 0, 1\n",
    "    sym_outcome = sp.stats.Normal(outcome, sym_mu, sym_sigma)\n",
    "    sym_treatments = sp.Array([sp.Symbol(sp.stats.Normal(treatment, sym_mu, sym_sigma)) \n",
    "                              for treatment in treatments])\n",
    "    sym_instruments = sp.Array([sp.Symbol(instrument) \n",
    "                                for instrument in instruments])\n",
    "    sym_effect = sp.stats.Expectation(\n",
    "        sp.Derivative(sym_outcome, sym_instruments) \n",
    "        / \n",
    "        sp.Derivative(sym_treatments, sym_instruments)\n",
    "    )\n",
    "    \n",
    "    return sym_effect\n",
    "\n",
    "CausalModel.construct_backdoor = construct_backdoor\n",
    "CausalModel.construct_instrumental_variable = construct_instrumental_variable\n",
    "CausalModel.identify_effect = identify_effect"
   ]
  },
  {
   "cell_type": "code",
   "execution_count": null,
   "metadata": {},
   "outputs": [
    {
     "name": "stdout",
     "output_type": "stream",
     "text": [
      "causes: {'treatments': {'W0', 'U'}, 'effects': {'E0', 'W0', 'U'}}\n",
      "common causes: {'W0', 'U'}\n",
      "treatment_parents_edges set()\n",
      "treatment_parents {'W0', 'U'}\n",
      "outcome ancestors {'v1', 'E0', 'v0', 'W0', 'U'}\n",
      "instruments_candidates set()\n",
      "descendants {'Y', 'v0', 'v1'}\n",
      "instruments set()\n",
      "Backdoor: Derivative(Expectation(Y | W0,U), [v0, v1])\n",
      "Instrumental variable: None\n"
     ]
    },
    {
     "data": {
      "text/plain": [
       "{'backdoor': Derivative(Expectation(Y | W0,U), [v0, v1]),\n",
       " 'instrumental_variable': None}"
      ]
     },
     "execution_count": null,
     "metadata": {},
     "output_type": "execute_result"
    }
   ],
   "source": [
    "cm.identify_effect()"
   ]
  },
  {
   "cell_type": "code",
   "execution_count": null,
   "metadata": {},
   "outputs": [],
   "source": [
    "#export\n",
    "def estimate_effect(self, estimands:dict, causal_method:str,\n",
    "                    model_type:str, control_value:float, \n",
    "                    treatment_value:float, target_unit:str='ate', \n",
    "                    effect_modifiers:List[str]=None,\n",
    "                    method_params:dict=None):\n",
    "    assert causal_type in {'backdoor', 'instrumental_variable'}\n",
    "    # model_type: linear regression, ...\n",
    "    \n",
    "    if effect_modifiers is None:\n",
    "        effect_modifiers = self.effect_modifiers\n",
    "            \n",
    "    # decide on approach given causal_method and model_type\n",
    "    \n",
    "    # estimate the effect using the arrived on approach\n",
    "\n",
    "CausalModel.estimate_effect = estimate_effect"
   ]
  },
  {
   "cell_type": "code",
   "execution_count": null,
   "metadata": {},
   "outputs": [],
   "source": []
  }
 ],
 "metadata": {
  "kernelspec": {
   "display_name": "Python [conda env:py37_dowhy]",
   "language": "python",
   "name": "conda-env-py37_dowhy-py"
  }
 },
 "nbformat": 4,
 "nbformat_minor": 4
}
